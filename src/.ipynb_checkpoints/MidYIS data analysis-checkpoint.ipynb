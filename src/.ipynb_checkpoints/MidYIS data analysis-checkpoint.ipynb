{
 "cells": [
  {
   "cell_type": "code",
   "execution_count": 3,
   "metadata": {},
   "outputs": [
    {
     "ename": "TypeError",
     "evalue": "unhashable type: 'list'",
     "output_type": "error",
     "traceback": [
      "\u001b[1;31m---------------------------------------------------------------------------\u001b[0m",
      "\u001b[1;31mTypeError\u001b[0m                                 Traceback (most recent call last)",
      "\u001b[1;32m<ipython-input-3-b06e12dc6633>\u001b[0m in \u001b[0;36m<module>\u001b[1;34m()\u001b[0m\n\u001b[0;32m     24\u001b[0m           \u001b[0mNEW_GRADES_YEARS\u001b[0m \u001b[1;33m:\u001b[0m \u001b[1;34m\"Numeric (including TAGS/CAGS)\"\u001b[0m\u001b[1;33m,\u001b[0m\u001b[1;33m\u001b[0m\u001b[0m\n\u001b[0;32m     25\u001b[0m          \u001b[0mALL_YEARS_NO_TAGS\u001b[0m \u001b[1;33m:\u001b[0m \u001b[1;34m\"All data except TAGS/CAGS\"\u001b[0m\u001b[1;33m,\u001b[0m\u001b[1;33m\u001b[0m\u001b[0m\n\u001b[1;32m---> 26\u001b[1;33m          ALL_YEARS : \"All years\"}\n\u001b[0m\u001b[0;32m     27\u001b[0m \u001b[1;33m\u001b[0m\u001b[0m\n\u001b[0;32m     28\u001b[0m \u001b[0mall_results\u001b[0m \u001b[1;33m=\u001b[0m \u001b[1;33m{\u001b[0m\u001b[1;33m}\u001b[0m\u001b[1;33m\u001b[0m\u001b[0m\n",
      "\u001b[1;31mTypeError\u001b[0m: unhashable type: 'list'"
     ]
    }
   ],
   "source": [
    "import data_analysis\n",
    "import matplotlib.pyplot as plt\n",
    "import data_extraction as de\n",
    "\n",
    "\n",
    "\"\"\"\n",
    "list of excel sheet titles (keys for extracted dictionary)\n",
    "['Yr 9 2012_13', 'Yr 9 2013_14',  ***all subjects graded 1-8 on CEM scale***\n",
    " 'Yr 9 2014_15', 'Yr 9 2014_15 (9-1)', ***all except English graded 1-8)***\n",
    "'Yr 9 2015_16', 'Yr 9 2015_16 (9-1)', ***just a few pupils in maths, history and DT graded 1-8 still*** \n",
    "'Yr 9 2016_17 (9-1)', 'Yr 9 2017_18 (9-1)', 'Yr 9 2018_19 (9-1)'  ***all subjects graded 1-9***  \n",
    "]\n",
    "\"\"\"\n",
    "year_selections = {\"Pre-numeric\" : ['Yr 9 2012_13', 'Yr 9 2013_14', 'Yr 9 2014_15', 'Yr 9 2015_16'], \n",
    "                   \"Numeric (including TAGS/CAGS)\" : ['Yr 9 2014_15 (9-1)', 'Yr 9 2015_16 (9-1)','Yr 9 2016_17 (9-1)', \n",
    "                                                      'Yr 9 2017_18 (9-1)', 'Yr 9 2018_19 (9-1)']\n",
    "                   \"All years except TAGS/CAGS\" : ['Yr 9 2012_13', 'Yr 9 2013_14', 'Yr 9 2014_15', 'Yr 9 2015_16', \n",
    "                                                     'Yr 9 2014_15 (9-1)', 'Yr 9 2015_16 (9-1)','Yr 9 2016_17 (9-1)'],\n",
    "                   \"All years\" = ['Yr 9 2012_13', 'Yr 9 2013_14', 'Yr 9 2014_15', 'Yr 9 2015_16',\n",
    "                                    'Yr 9 2014_15 (9-1)', 'Yr 9 2015_16 (9-1)','Yr 9 2016_17 (9-1)', \n",
    "                                    'Yr 9 2017_18 (9-1)', 'Yr 9 2018_19 (9-1)']\n",
    "                  }\n",
    "\n",
    "output = [\"Pre-numeric\", , , ]\n",
    "\n",
    "all_results = {}\n",
    "logreg_results = {}\n",
    "#data_analysis.GCSE_on_midYIS_regression(verbose = 'True', subject = \"Mathematics\", criteria = \"Actual GCSE Points\")\n",
    "\n",
    "for subject in de.SUBJECTS[:3]:\n",
    "    all_results[subject] = {}\n",
    "    log_reg_results[subject] = {}\n",
    "    for years_key in year_selections.keys():\n",
    "        years = year_selections[years_key]\n",
    "        print(\"\\n\\n\\nAnalysis of midYIS mean score and GCSE result in {0} using {1}\".format(subject, years))\n",
    "        all_results[subject][years_key] = data_analysis.GCSE_on_midYIS_regression(years = years, \\\n",
    "                                                                              subject = subject, criteria = 'Actual GCSE Points', verbose = False)\n",
    "        log_reg_results[subject][years_key] = all_results[subject][output[years_key]][2]\n",
    "    \n",
    "display(pd.DataFrame.from_dict(log_reg_results))"
   ]
  },
  {
   "cell_type": "code",
   "execution_count": 6,
   "metadata": {},
   "outputs": [
    {
     "data": {
      "text/plain": [
       "0.0080111794129921199"
      ]
     },
     "execution_count": 6,
     "metadata": {},
     "output_type": "execute_result"
    }
   ],
   "source": [
    "results['Art & Design'][2]"
   ]
  },
  {
   "cell_type": "code",
   "execution_count": null,
   "metadata": {
    "collapsed": true
   },
   "outputs": [],
   "source": []
  }
 ],
 "metadata": {
  "kernelspec": {
   "display_name": "Python 3",
   "language": "python",
   "name": "python3"
  },
  "language_info": {
   "codemirror_mode": {
    "name": "ipython",
    "version": 3
   },
   "file_extension": ".py",
   "mimetype": "text/x-python",
   "name": "python",
   "nbconvert_exporter": "python",
   "pygments_lexer": "ipython3",
   "version": "3.6.2"
  }
 },
 "nbformat": 4,
 "nbformat_minor": 2
}
